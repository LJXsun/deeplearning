{
 "cells": [
  {
   "cell_type": "code",
   "execution_count": 1,
   "metadata": {
    "scrolled": true
   },
   "outputs": [],
   "source": [
    "from solver import Solver\n",
    "from visualize import plot_loss_and_acc"
   ]
  },
  {
   "cell_type": "code",
   "execution_count": 2,
   "metadata": {},
   "outputs": [
    {
     "name": "stdout",
     "output_type": "stream",
     "text": [
      "max_epoch = 1\n",
      "**********forward**********\n",
      "loss = [[2.54088606]]\n",
      "self.grad_W.shape = (10, 784)\n",
      "self.grad_b.shape = (10,)\n",
      "[[-0.17654062 -0.17654062 -0.17654062 ... -0.17654062 -0.17654062\n",
      "  -0.17654062]\n",
      " [-0.05277611 -0.05277611 -0.05277611 ... -0.05277611 -0.05277611\n",
      "  -0.05277611]\n",
      " [-0.17073329 -0.17073329 -0.17073329 ... -0.17073329 -0.17073329\n",
      "  -0.17073329]\n",
      " ...\n",
      " [-0.07845638 -0.07845638 -0.07845638 ... -0.07845638 -0.07845638\n",
      "  -0.07845638]\n",
      " [-0.07836635 -0.07836635 -0.07836635 ... -0.07836635 -0.07836635\n",
      "  -0.07836635]\n",
      " [-0.0777611  -0.0777611  -0.0777611  ... -0.0777611  -0.0777611\n",
      "  -0.0777611 ]]\n",
      "<class 'numpy.ndarray'>\n",
      "(100, 784)\n",
      "[4 1 9 2 9 0 7 8 4 8 6 8 1 2 2 4 0 3 2 9 1 6 7 2 1 1 3 7 6 1 0 4 2 8 5 4 3\n",
      " 7 5 6 0 4 0 5 5 5 2 1 6 7 6 1 3 8 1 9 1 6 6 0 0 7 7 3 9 5 8 1 1 4 6 8 7 0\n",
      " 3 1 1 6 6 9 3 2 9 6 6 9 4 3 3 2 8 5 6 8 5 8 5 7 2 2]\n",
      "<class 'numpy.ndarray'>\n",
      "**********forward**********\n",
      "loss = [[2.55207606]]\n",
      "**********forward**********\n",
      "loss = [[2.52379183]]\n",
      "**********forward**********\n",
      "loss = [[2.4116005]]\n",
      "**********forward**********\n",
      "loss = [[2.50817027]]\n",
      "**********forward**********\n",
      "loss = [[2.42675848]]\n",
      "**********forward**********\n",
      "loss = [[2.52043451]]\n",
      "**********forward**********\n",
      "loss = [[2.5008174]]\n",
      "**********forward**********\n",
      "loss = [[2.52390119]]\n",
      "**********forward**********\n",
      "loss = [[2.55277751]]\n",
      "**********forward**********\n",
      "loss = [[2.43435156]]\n",
      "**********forward**********\n",
      "loss = [[2.52083986]]\n",
      "**********forward**********\n",
      "loss = [[2.5433868]]\n",
      "**********forward**********\n",
      "loss = [[2.42736426]]\n",
      "**********forward**********\n",
      "loss = [[2.42680668]]\n",
      "**********forward**********\n",
      "loss = [[2.41086993]]\n",
      "**********forward**********\n",
      "loss = [[2.5596004]]\n",
      "**********forward**********\n",
      "loss = [[2.36947741]]\n",
      "**********forward**********\n",
      "loss = [[2.49730802]]\n",
      "**********forward**********\n",
      "loss = [[2.50807112]]\n",
      "**********forward**********\n",
      "loss = [[2.47011379]]\n",
      "**********forward**********\n",
      "loss = [[2.4109826]]\n",
      "**********forward**********\n",
      "loss = [[2.47733607]]\n",
      "**********forward**********\n",
      "loss = [[2.4111637]]\n",
      "**********forward**********\n",
      "loss = [[2.4264415]]\n",
      "**********forward**********\n",
      "loss = [[2.44588723]]\n",
      "**********forward**********\n",
      "loss = [[2.53898284]]\n",
      "**********forward**********\n",
      "loss = [[2.35077371]]\n",
      "**********forward**********\n",
      "loss = [[2.45076429]]\n",
      "**********forward**********\n",
      "loss = [[2.45471726]]\n",
      "**********forward**********\n",
      "loss = [[2.55095257]]\n",
      "**********forward**********\n",
      "loss = [[2.46344186]]\n",
      "**********forward**********\n",
      "loss = [[2.47100269]]\n",
      "**********forward**********\n",
      "loss = [[2.54651348]]\n",
      "**********forward**********\n",
      "loss = [[2.50614216]]\n"
     ]
    },
    {
     "name": "stderr",
     "output_type": "stream",
     "text": [
      "D:\\software\\work\\anaconda\\lib\\site-packages\\numpy\\core\\fromnumeric.py:3432: RuntimeWarning: Mean of empty slice.\n",
      "  return _methods._mean(a, axis=axis, dtype=dtype,\n",
      "D:\\software\\work\\anaconda\\lib\\site-packages\\numpy\\core\\_methods.py:190: RuntimeWarning: invalid value encountered in double_scalars\n",
      "  ret = ret.dtype.type(ret / rcount)\n"
     ]
    },
    {
     "name": "stdout",
     "output_type": "stream",
     "text": [
      "**********forward**********\n",
      "loss = [[2.49692135]]\n",
      "**********forward**********\n",
      "loss = [[2.45601235]]\n",
      "**********forward**********\n",
      "loss = [[2.52773974]]\n",
      "**********forward**********\n",
      "loss = [[2.44810761]]\n",
      "**********forward**********\n",
      "loss = [[2.52230372]]\n",
      "**********forward**********\n",
      "loss = [[2.564652]]\n",
      "**********forward**********\n",
      "loss = [[2.57135451]]\n",
      "**********forward**********\n",
      "loss = [[2.53612115]]\n",
      "**********forward**********\n",
      "loss = [[2.49673074]]\n",
      "**********forward**********\n",
      "loss = [[2.6507433]]\n",
      "**********forward**********\n",
      "loss = [[2.56248539]]\n",
      "**********forward**********\n",
      "loss = [[2.40242748]]\n",
      "**********forward**********\n",
      "loss = [[2.59491484]]\n",
      "**********forward**********\n",
      "loss = [[2.47127048]]\n",
      "**********forward**********\n",
      "loss = [[2.48594185]]\n",
      "**********forward**********\n",
      "loss = [[2.49893473]]\n",
      "\n",
      "Epoch [0]\t Average training loss nan\t Average training accuracy nan\n",
      "Epoch [0]\t Average validation loss 2.4896\t Average validation accuracy 0.0962\n",
      "\n"
     ]
    }
   ],
   "source": [
    "# train without momentum\n",
    "cfg = {\n",
    "    'data_root': 'data',\n",
    "    'max_epoch': 1,\n",
    "    'batch_size': 100,\n",
    "    'learning_rate': 0.01,\n",
    "    'momentum': 0,\n",
    "    'display_freq': 50,\n",
    "}\n",
    "\n",
    "runner = Solver(cfg)\n",
    "loss1, acc1 = runner.train()"
   ]
  },
  {
   "cell_type": "code",
   "execution_count": null,
   "metadata": {},
   "outputs": [],
   "source": [
    "test_loss, test_acc = runner.test()\n",
    "print('Final test accuracy {:.4f}\\n'.format(test_acc))"
   ]
  },
  {
   "cell_type": "code",
   "execution_count": null,
   "metadata": {},
   "outputs": [],
   "source": [
    "# train with momentum\n",
    "cfg = {\n",
    "    'data_root': 'data',\n",
    "    'max_epoch': 10,\n",
    "    'batch_size': 100,\n",
    "    'learning_rate': 0.01,\n",
    "    'momentum': 0.9,\n",
    "    'display_freq': 50,\n",
    "}\n",
    "\n",
    "runner = Solver(cfg)\n",
    "loss2, acc2 = runner.train()"
   ]
  },
  {
   "cell_type": "code",
   "execution_count": null,
   "metadata": {},
   "outputs": [],
   "source": [
    "test_loss, test_acc = runner.test()\n",
    "print('Final test accuracy {:.4f}\\n'.format(test_acc))"
   ]
  },
  {
   "cell_type": "code",
   "execution_count": null,
   "metadata": {},
   "outputs": [],
   "source": [
    "plot_loss_and_acc({\n",
    "    \"momentum=0\": [loss1, acc1],\n",
    "    \"momentum=0.9\": [loss2, acc2]\n",
    "})"
   ]
  }
 ],
 "metadata": {
  "kernelspec": {
   "display_name": "Python 3 (ipykernel)",
   "language": "python",
   "name": "python3"
  },
  "language_info": {
   "codemirror_mode": {
    "name": "ipython",
    "version": 3
   },
   "file_extension": ".py",
   "mimetype": "text/x-python",
   "name": "python",
   "nbconvert_exporter": "python",
   "pygments_lexer": "ipython3",
   "version": "3.10.9"
  }
 },
 "nbformat": 4,
 "nbformat_minor": 4
}
